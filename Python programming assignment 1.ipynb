{
 "cells": [
  {
   "cell_type": "markdown",
   "id": "1794ddf6",
   "metadata": {},
   "source": [
    "question1.Write a Python program to print Hello Python"
   ]
  },
  {
   "cell_type": "code",
   "execution_count": 2,
   "id": "adf7da1f",
   "metadata": {},
   "outputs": [
    {
     "name": "stdout",
     "output_type": "stream",
     "text": [
      "Hello\n"
     ]
    }
   ],
   "source": [
    "# code\n",
    "print('Hello')      # print()-inbuilt function to print the output"
   ]
  },
  {
   "cell_type": "markdown",
   "id": "62c06ab0",
   "metadata": {},
   "source": [
    "question2.Write a Python program to do arithmetical operations addition and division.?"
   ]
  },
  {
   "cell_type": "code",
   "execution_count": 12,
   "id": "2a9b5d6b",
   "metadata": {},
   "outputs": [
    {
     "name": "stdout",
     "output_type": "stream",
     "text": [
      "enter the first number-5\n",
      "enter the second number-5\n",
      "the addition of two numbers is- 10\n",
      "the divison of two numbers is- 1.0\n"
     ]
    }
   ],
   "source": [
    "#code\n",
    "\n",
    "first_num=int(input('enter the first number-'))    # to take input of the first number.\n",
    "second_num=int(input('enter the second number-'))    # to take the input of the second number.\n",
    "\n",
    "def addition(f_num,s_num):               \n",
    "    return first_num+second_num          # addition of two numbers         \n",
    "\n",
    "def divison(f_num,s_num):\n",
    "    #if f_num==0:                          # if in case the first number is 0.\n",
    "     #   print(division is not possible)       \n",
    "    #else:\n",
    "        return first_num/second_num         # division of two numbers.\n",
    "\n",
    "print('the addition of two numbers is-',addition(first_num,second_num))     # to print the addition of two numbers.\n",
    "print('the divison of two numbers is-',divison(first_num,second_num))       # to print the division of two numbers."
   ]
  },
  {
   "cell_type": "markdown",
   "id": "c1d4cec4",
   "metadata": {},
   "source": [
    " question-3. Write a Python program to find the area of a triangle?"
   ]
  },
  {
   "cell_type": "code",
   "execution_count": 23,
   "id": "a713aa2b",
   "metadata": {},
   "outputs": [
    {
     "name": "stdout",
     "output_type": "stream",
     "text": [
      "enter the length of the first side-6\n",
      "enter the length of the second side-5\n",
      "enter the length of the third side-4\n",
      "area of triangle is- 9.921567416492215\n"
     ]
    }
   ],
   "source": [
    "# code\n",
    "\n",
    "# taking the mesurement of each side-\n",
    "side1,side2,side3=float(input('enter the length of the first side-')),float(input('enter the length of the second side-')),float(input('enter the length of the third side-'))\n",
    "\n",
    "# function to print the area of the triangle-\n",
    "'''to get the area of triangle either we know the base height and side of the triangle or \n",
    "we can use the herons formula-\n",
    "to get the herons formula we must know the perimeter of the triangle-\n",
    "so-perimeter of the triangle is-\n",
    "perimeter=side1+side2+side3\n",
    "semiperimeter=perimeter/2\n",
    "\n",
    "herons formula for area of triangle with sides is-√(s*(s-a)*(s-b)*(s-c))\n",
    "so-\n",
    "'''\n",
    "from math import sqrt \n",
    "def area_triangle(s1,s2,s3):\n",
    "    perimeter=s1+s2+s3\n",
    "    semi_perimeter=perimeter/2\n",
    "    return sqrt(semi_perimeter*(semi_perimeter-s1)*(semi_perimeter-s2)*(semi_perimeter-s3))\n",
    "print(\"area of triangle is-\",area_triangle(side1,side2,side3))"
   ]
  },
  {
   "cell_type": "markdown",
   "id": "3f5a22f8",
   "metadata": {},
   "source": [
    "question-4. Write a Python program to swap two variables?"
   ]
  },
  {
   "cell_type": "code",
   "execution_count": 33,
   "id": "0f3622a6",
   "metadata": {},
   "outputs": [
    {
     "name": "stdout",
     "output_type": "stream",
     "text": [
      "enter the first variable-5\n",
      "enter the second variable-0\n",
      "=====================================================\n",
      "the first variable before swap- 5\n",
      "the second variable before swap 0\n",
      "------------------------------------------------------\n",
      "the first variable after swap- 0 \n",
      "second variable after swap- 5 \n",
      "======================================================\n"
     ]
    }
   ],
   "source": [
    "# code-\n",
    "\n",
    "first_var=input('enter the first variable-')\n",
    "second_var=input('enter the second variable-')\n",
    "\n",
    "print('======================================================')\n",
    "print('the first variable before swap-',first_var)\n",
    "print('the second variable before swap',second_var)\n",
    "print('------------------------------------------------------')\n",
    "def swap_var(f,s):\n",
    "    t=f\n",
    "    f=s\n",
    "    s=t\n",
    "    print('the first variable after swap-',f,'\\nsecond variable after swap-',s,'\\n======================================================')\n",
    "swap_var(first_var,second_var)"
   ]
  },
  {
   "cell_type": "markdown",
   "id": "dae7785a",
   "metadata": {},
   "source": [
    "question5. Write a Python program to generate a random number?"
   ]
  },
  {
   "cell_type": "code",
   "execution_count": 39,
   "id": "4a4aa316",
   "metadata": {},
   "outputs": [
    {
     "name": "stdout",
     "output_type": "stream",
     "text": [
      "46\n"
     ]
    }
   ],
   "source": [
    "# to print the random integer from 1 to 100\n",
    "from random import randint\n",
    "print(randint(0,100))"
   ]
  },
  {
   "cell_type": "code",
   "execution_count": null,
   "id": "a0333113",
   "metadata": {},
   "outputs": [],
   "source": []
  }
 ],
 "metadata": {
  "kernelspec": {
   "display_name": "Python 3 (ipykernel)",
   "language": "python",
   "name": "python3"
  },
  "language_info": {
   "codemirror_mode": {
    "name": "ipython",
    "version": 3
   },
   "file_extension": ".py",
   "mimetype": "text/x-python",
   "name": "python",
   "nbconvert_exporter": "python",
   "pygments_lexer": "ipython3",
   "version": "3.9.7"
  }
 },
 "nbformat": 4,
 "nbformat_minor": 5
}
