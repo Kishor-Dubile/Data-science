{
 "cells": [
  {
   "cell_type": "markdown",
   "id": "53683089",
   "metadata": {},
   "source": [
    "question1. Write a Python program to convert kilometers to miles?"
   ]
  },
  {
   "cell_type": "code",
   "execution_count": 4,
   "id": "9edffbc6",
   "metadata": {},
   "outputs": [
    {
     "name": "stdout",
     "output_type": "stream",
     "text": [
      "enter the distance in kilometer-5\n",
      "5 kilometer is equals to- 3.106855 mile\n"
     ]
    }
   ],
   "source": [
    "# code-\n",
    "\n",
    "kilometer=eval(input('enter the distance in kilometer-'))\n",
    "\n",
    "def kilo_to_mile():   \n",
    "    return 0.621371*kilometer\n",
    "\n",
    "print(kilometer,'kilometer is equals to-',kilo_to_mile(),'mile')"
   ]
  },
  {
   "cell_type": "code",
   "execution_count": null,
   "id": "a2593975",
   "metadata": {},
   "outputs": [],
   "source": [
    "question2. Write a Python program to convert Celsius to Fahrenheit?"
   ]
  },
  {
   "cell_type": "code",
   "execution_count": 7,
   "id": "cbbc466f",
   "metadata": {},
   "outputs": [
    {
     "name": "stdout",
     "output_type": "stream",
     "text": [
      "enter the temperature celsius-2\n",
      "2 C is equals to- 35.6 F\n"
     ]
    }
   ],
   "source": [
    "#code-\n",
    "\n",
    "celsius=eval(input('enter the temperature celsius-'))\n",
    "\n",
    "def celsius_to_Fahrenheit():   \n",
    "    return (9*celsius)/5+32\n",
    "\n",
    "print(celsius,'C is equals to-',celsius_to_Fahrenheit(),'F')"
   ]
  },
  {
   "cell_type": "markdown",
   "id": "bb5ca90b",
   "metadata": {},
   "source": [
    "3. Write a Python program to display calendar?"
   ]
  },
  {
   "cell_type": "code",
   "execution_count": 20,
   "id": "1d3767c0",
   "metadata": {},
   "outputs": [
    {
     "name": "stdout",
     "output_type": "stream",
     "text": [
      "enter the year you want to see-2121\n",
      "enter the month number you want to see-2\n",
      "   February 2121\n",
      "Mo Tu We Th Fr Sa Su\n",
      "                1  2\n",
      " 3  4  5  6  7  8  9\n",
      "10 11 12 13 14 15 16\n",
      "17 18 19 20 21 22 23\n",
      "24 25 26 27 28\n",
      "\n"
     ]
    }
   ],
   "source": [
    "# code-\n",
    "\n",
    "import calendar\n",
    "def cal():\n",
    "    year=int(input('enter the year you want to see-'))\n",
    "    month=int(input('enter the month number you want to see-'))\n",
    "    if(month==0 or month>12):\n",
    "        print('month does not exist in calender.')\n",
    "    return calendar.month(year,month)\n",
    "print(cal())"
   ]
  },
  {
   "cell_type": "markdown",
   "id": "510932b6",
   "metadata": {},
   "source": [
    "question4. Write a Python program to solve quadratic equation?"
   ]
  },
  {
   "cell_type": "code",
   "execution_count": 13,
   "id": "cc5ce9cc",
   "metadata": {},
   "outputs": [
    {
     "name": "stdout",
     "output_type": "stream",
     "text": [
      "enter the first coefficient of quadratic equation:-0\n",
      "enter the second coefficient of quadratic equation:-5\n",
      "enter the third coefficient of quadratic equation:-5\n",
      "-----------------------------------------------------------------------\n",
      "the solution of this quadratic equation is- (0.0, -0.0)\n"
     ]
    }
   ],
   "source": [
    "#code\n",
    "\n",
    "import math\n",
    "\n",
    "\n",
    "# enter the three coeffiecient of quadratic equatiton- \n",
    "coef1,coef2,coef3=int(input('enter the first coefficient of quadratic equation:-')),int(input('enter the second coefficient of quadratic equation:-')),int(input('enter the third coefficient of quadratic equation:-'))\n",
    "print('-----------------------------------------------------------------------')\n",
    "# to get the solution of quadratic equation-\n",
    "def sol_quad(c1,c2,c3):\n",
    "    dis=((c2**2)-(4*c1*c3))\n",
    "    if dis>0:\n",
    "        root1=(-c2+math.sqrt(dis))/2*c1\n",
    "        root2=(-c2-math.sqrt(dis))/2*c1\n",
    "        return (root1,root2)\n",
    "    elif dis==0:\n",
    "        root1=root2=-c2/(2*c1)\n",
    "        return (root1,root2)\n",
    "    elif dis<0:\n",
    "        root1=root2=-c2/(2*c1)\n",
    "        imaginary=math.sqrt(-dis)/(2*c1)\n",
    "        return (root1,imaginary,root2,imaginary)\n",
    "    else:\n",
    "        print('roots of this quadratic equation does not exist.')\n",
    "print('the solution of this quadratic equation is-',sol_quad(coef1,coef2,coef3))"
   ]
  },
  {
   "cell_type": "markdown",
   "id": "8ccd74fe",
   "metadata": {},
   "source": [
    "question5. Write a Python program to swap two variables without temp variable?"
   ]
  },
  {
   "cell_type": "code",
   "execution_count": 23,
   "id": "a3782d9e",
   "metadata": {},
   "outputs": [
    {
     "name": "stdout",
     "output_type": "stream",
     "text": [
      "enter the first number:-5\n",
      "enter the second number:-8\n",
      "---------------------------------------------------------------\n",
      "first number before the swaping- 5 \n",
      "second number before swaping- 8\n",
      "---------------------------------------------------------------\n",
      "first number after swap:- 8 second number after swap:- 5\n"
     ]
    }
   ],
   "source": [
    "# code-\n",
    "\n",
    "\n",
    "def swap_num():\n",
    "    first_num=int(input('enter the first number:-'))\n",
    "    second_num=int(input('enter the second number:-'))\n",
    "    print('---------------------------------------------------------------')\n",
    "    print('first number before the swaping-',first_num,'\\nsecond number before swaping-',second_num)\n",
    "    total=first_num+second_num\n",
    "    first_num=total-first_num\n",
    "    second_num=total-second_num\n",
    "    print('---------------------------------------------------------------')\n",
    "    print('first number after swap:-',first_num,'second number after swap:-',second_num)\n",
    "swap_num()"
   ]
  },
  {
   "cell_type": "code",
   "execution_count": null,
   "id": "b60d4bcb",
   "metadata": {},
   "outputs": [],
   "source": []
  }
 ],
 "metadata": {
  "kernelspec": {
   "display_name": "Python 3 (ipykernel)",
   "language": "python",
   "name": "python3"
  },
  "language_info": {
   "codemirror_mode": {
    "name": "ipython",
    "version": 3
   },
   "file_extension": ".py",
   "mimetype": "text/x-python",
   "name": "python",
   "nbconvert_exporter": "python",
   "pygments_lexer": "ipython3",
   "version": "3.9.7"
  }
 },
 "nbformat": 4,
 "nbformat_minor": 5
}
