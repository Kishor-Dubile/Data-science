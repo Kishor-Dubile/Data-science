{
 "cells": [
  {
   "cell_type": "code",
   "execution_count": 3,
   "id": "43c500eb",
   "metadata": {},
   "outputs": [
    {
     "name": "stdout",
     "output_type": "stream",
     "text": [
      "enter your name-Kishor\n",
      "Welcome to FDSC Kishor\n"
     ]
    }
   ],
   "source": [
    "Name=input('Enter your name-')\n",
    "print(\"Welcome to FDSC \"+Name)"
   ]
  },
  {
   "cell_type": "code",
   "execution_count": null,
   "id": "e5d7fc99",
   "metadata": {},
   "outputs": [],
   "source": []
  }
 ],
 "metadata": {
  "kernelspec": {
   "display_name": "Python 3 (ipykernel)",
   "language": "python",
   "name": "python3"
  },
  "language_info": {
   "codemirror_mode": {
    "name": "ipython",
    "version": 3
   },
   "file_extension": ".py",
   "mimetype": "text/x-python",
   "name": "python",
   "nbconvert_exporter": "python",
   "pygments_lexer": "ipython3",
   "version": "3.9.7"
  }
 },
 "nbformat": 4,
 "nbformat_minor": 5
}
